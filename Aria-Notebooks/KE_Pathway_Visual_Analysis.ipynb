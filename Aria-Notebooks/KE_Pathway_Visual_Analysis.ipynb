{
 "cells": [
  {
   "cell_type": "markdown",
   "metadata": {},
   "source": [
    "# KE Pathway Visualisation\n",
    "\n",
    "In order to visualise the changes in log2FC values and determine which genes are significant, we need to look into each of the pathways of our KEs. Make sure you start a new cytoscape session before running the code."
   ]
  },
  {
   "cell_type": "code",
   "execution_count": 1,
   "metadata": {},
   "outputs": [],
   "source": [
    "import os\n",
    "import sys\n",
    "import requests\n",
    "import pandas as pd\n",
    "from lxml import etree as ET\n",
    "from collections import OrderedDict\n",
    "import py4cytoscape as p4c\n",
    "\n",
    "import warnings\n",
    "warnings.filterwarnings('ignore')\n"
   ]
  },
  {
   "cell_type": "code",
   "execution_count": 2,
   "metadata": {},
   "outputs": [],
   "source": [
    "import logging,sys\n",
    "logging.disable(sys.maxsize)"
   ]
  },
  {
   "cell_type": "code",
   "execution_count": 3,
   "metadata": {},
   "outputs": [
    {
     "name": "stderr",
     "output_type": "stream",
     "text": [
      "Warning -- Cytoscape version pre-3.9 in use ... settling delay inserted after filter execution\n"
     ]
    },
    {
     "name": "stdout",
     "output_type": "stream",
     "text": [
      "No edges selected.\n"
     ]
    },
    {
     "name": "stderr",
     "output_type": "stream",
     "text": [
      "Warning -- Cytoscape version pre-3.9 in use ... settling delay inserted after filter execution\n"
     ]
    },
    {
     "name": "stdout",
     "output_type": "stream",
     "text": [
      "No edges selected.\n"
     ]
    },
    {
     "name": "stderr",
     "output_type": "stream",
     "text": [
      "Warning -- Cytoscape version pre-3.9 in use ... settling delay inserted after filter execution\n"
     ]
    },
    {
     "name": "stdout",
     "output_type": "stream",
     "text": [
      "No edges selected.\n"
     ]
    },
    {
     "name": "stderr",
     "output_type": "stream",
     "text": [
      "Warning -- Cytoscape version pre-3.9 in use ... settling delay inserted after filter execution\n"
     ]
    },
    {
     "name": "stdout",
     "output_type": "stream",
     "text": [
      "No edges selected.\n"
     ]
    }
   ],
   "source": [
    "from IPython.display import Image\n",
    "#Defining wikipathway IDs: WP5088, WP5089, WP5068, WP5095, WP2725, WP554\n",
    "WP = 'WP5088'\n",
    "path = ['WP5088', 'WP5068', 'WP5095', 'WP2725', 'WP5089', 'WP554']\n",
    "#importing as network to cytoscape \n",
    "for pathway in path:\n",
    "    cmd_list = ['wikipathways','import-as-pathway','id=\" ', pathway, '\"']\n",
    "    cmd = \" \".join(cmd_list)\n",
    "    p4c.commands.commands_get(cmd)\n",
    "    # Generate image of basic pathway\n",
    "    filename= pathway+'.png'\n",
    "    p4c.export_image(filename)\n",
    "    p4c.sandbox_get_from(filename)\n",
    "    Image(filename)\n",
    "    #loading data expression table\n",
    "    dataExpr = pd.read_csv(r'C:/Users/Aria Jadhav/Downloads/2021-internship-main (1)/2021-internship-main/Marvin/R-data-processing/dataExpr.csv')\n",
    "    #loading gene expression data from csv file\n",
    "    p4c.load_table_data(dataExpr, data_key_column=\"Name\")   \n",
    "    #data visualisation\n",
    "    logFC_score_table = p4c.get_table_columns(table='node', columns='logFC')\n",
    "    #set min and max log2FC values and visualising it\n",
    "    logFC_min = -1\n",
    "    logFC_max = 1\n",
    "    logFC_center = 0\n",
    "    dir = 'C:/Users/Aria Jadhav/Documents/GitHub/2021-internship/Aria-Notebooks/'\n",
    "    vizstyle = dir+ \"newstyleV1.xml\"\n",
    "    LoadStylecmd = \"\".join(['vizmap load file file=\"',vizstyle,'\"'])\n",
    "    p4c.commands.commands_get(LoadStylecmd)\n",
    "    p4c.set_visual_style('CyTargetLinker')\n",
    "    p4c.set_node_shape_default('RECTANGLE', style_name='CyTargetLinker')\n",
    "    p4c.set_node_color_mapping('logFC', [logFC_min, logFC_center, logFC_max], ['#0000FF', '#FFFFFF', '#FF0000'], style_name = 'CyTargetLinker')\n",
    "    #p value visualisation\n",
    "    PValue_score_table = p4c.get_table_columns(table='node', columns='PValue')\n",
    "    PValue_min = PValue_score_table.min().values[0]\n",
    "    PValue_max = PValue_score_table.max().values[0]\n",
    "    p4c.set_node_border_width_default(5, style_name='CyTargetLinker')\n",
    "    #sig gene filter\n",
    "    if PValue_min> 0.05:\n",
    "        continue\n",
    "    Sig_gene = p4c.create_column_filter('Sig_gene', 'PValue', 0.05, \"LESS_THAN\")\n",
    "    df = pd.DataFrame(Sig_gene)\n",
    "    sig_gene_exp_list = df[\"nodes\"].tolist()\n",
    "    #increasing border width and changing colour for significant gene expression\n",
    "    p4c.set_node_border_color_bypass(sig_gene_exp_list, '#00ff2a')\n",
    "    p4c.set_node_border_width_bypass(sig_gene_exp_list, 20)\n",
    "    p4c.clear_selection()\n",
    "    #print image\n",
    "    filename = pathway+'_data.png'\n",
    "    p4c.export_image(filename)\n",
    "    p4c.sandbox_get_from(filename)\n",
    "    Image(filename)"
   ]
  },
  {
   "cell_type": "code",
   "execution_count": null,
   "metadata": {},
   "outputs": [],
   "source": []
  }
 ],
 "metadata": {
  "kernelspec": {
   "display_name": "Python 3",
   "language": "python",
   "name": "python3"
  },
  "language_info": {
   "codemirror_mode": {
    "name": "ipython",
    "version": 3
   },
   "file_extension": ".py",
   "mimetype": "text/x-python",
   "name": "python",
   "nbconvert_exporter": "python",
   "pygments_lexer": "ipython3",
   "version": "3.7.10"
  }
 },
 "nbformat": 4,
 "nbformat_minor": 4
}
