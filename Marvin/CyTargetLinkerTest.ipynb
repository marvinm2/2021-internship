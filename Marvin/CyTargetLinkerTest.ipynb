{
 "cells": [
  {
   "cell_type": "markdown",
   "metadata": {},
   "source": [
    "## Notebook using CyTargetLinker\n",
    "\n",
    "Start with imports and setup"
   ]
  },
  {
   "cell_type": "code",
   "execution_count": 1,
   "metadata": {},
   "outputs": [],
   "source": [
    "import os\n",
    "import sys\n",
    "import requests\n",
    "import pandas as pd\n",
    "from lxml import etree as ET\n",
    "from collections import OrderedDict\n",
    "import py4cytoscape as p4c  #add a pip install for people who don't have the library"
   ]
  },
  {
   "cell_type": "markdown",
   "metadata": {},
   "source": [
    "### Define the path where files are stored\n",
    "- CyTargetLinker linkset\n",
    "- Cytoscape vizstyle"
   ]
  },
  {
   "cell_type": "code",
   "execution_count": 2,
   "metadata": {},
   "outputs": [],
   "source": [
    "path = '/home/marvin.martens/Documents/Teaching/2021/Bachelor internship/2021-internship/Marvin/'"
   ]
  },
  {
   "cell_type": "markdown",
   "metadata": {},
   "source": [
    "### Define the pathway of interest\n",
    "Fill the WikiPathways ID in the variable \"WP\". Example: 'WP4010'"
   ]
  },
  {
   "cell_type": "code",
   "execution_count": 3,
   "metadata": {},
   "outputs": [],
   "source": [
    "WP = 'WP4010'"
   ]
  },
  {
   "cell_type": "markdown",
   "metadata": {},
   "source": [
    "### Load the pathway in cytoscape\n",
    "This uses the WikiPathways app in Cytoscape"
   ]
  },
  {
   "cell_type": "code",
   "execution_count": 4,
   "metadata": {},
   "outputs": [
    {
     "data": {
      "text/plain": [
       "[]"
      ]
     },
     "execution_count": 4,
     "metadata": {},
     "output_type": "execute_result"
    }
   ],
   "source": [
    "cmd_list = ['wikipathways',' import-as-network',' id=\"', WP,'\"']\n",
    "cmd = \"\".join(cmd_list)\n",
    "p4c.commands.commands_get(cmd)"
   ]
  },
  {
   "cell_type": "markdown",
   "metadata": {},
   "source": [
    "### Extend the network\n",
    "This uses the CyTargetLinker app, and a CyTargetLinker linkset"
   ]
  },
  {
   "cell_type": "code",
   "execution_count": 5,
   "metadata": {},
   "outputs": [
    {
     "data": {
      "text/plain": [
       "['Extension step: 1',\n",
       " 'Linkset: WikiPathways-BBS3004_Homo sapiens_20210312',\n",
       " 'Added edges: 911',\n",
       " 'Added nodes: 655']"
      ]
     },
     "execution_count": 5,
     "metadata": {},
     "output_type": "execute_result"
    }
   ],
   "source": [
    "linkset = path + 'wikipathways-feb2021.xgmml'\n",
    "\n",
    "cmd = \"\".join(['cytargetlinker extend idAttribute=\"XrefId\" linkSetFiles=\"', linkset, '\" network=current'])\n",
    "p4c.commands.commands_get(cmd)"
   ]
  },
  {
   "cell_type": "markdown",
   "metadata": {},
   "source": [
    "### Load a visual style"
   ]
  },
  {
   "cell_type": "code",
   "execution_count": 6,
   "metadata": {},
   "outputs": [
    {
     "data": {
      "text/plain": [
       "['Loaded styles:', 'CTL Gene Pathway Network_2']"
      ]
     },
     "execution_count": 6,
     "metadata": {},
     "output_type": "execute_result"
    }
   ],
   "source": [
    "vizstyle = path+ \"viz-style-usecase2.xml\"\n",
    "LoadStylecmd = \"\".join(['vizmap load file file=\"',vizstyle,'\"'])\n",
    "p4c.commands.commands_get(LoadStylecmd)"
   ]
  },
  {
   "cell_type": "markdown",
   "metadata": {},
   "source": [
    "### Apply the loaded visual style"
   ]
  },
  {
   "cell_type": "code",
   "execution_count": 7,
   "metadata": {},
   "outputs": [
    {
     "data": {
      "text/plain": [
       "['Style applied to views:',\n",
       " 'CTL_Liver steatosis adverse outcome pathway - Homo sapiens_7 (SUID: 41216)']"
      ]
     },
     "execution_count": 7,
     "metadata": {},
     "output_type": "execute_result"
    }
   ],
   "source": [
    "setVisualStyle = 'vizmap apply styles=\"CTL Gene Pathway Network\"'\n",
    "p4c.commands.commands_get(setVisualStyle)"
   ]
  },
  {
   "cell_type": "code",
   "execution_count": null,
   "metadata": {},
   "outputs": [],
   "source": []
  }
 ],
 "metadata": {
  "kernelspec": {
   "display_name": "Python 3",
   "language": "python",
   "name": "python3"
  },
  "language_info": {
   "codemirror_mode": {
    "name": "ipython",
    "version": 3
   },
   "file_extension": ".py",
   "mimetype": "text/x-python",
   "name": "python",
   "nbconvert_exporter": "python",
   "pygments_lexer": "ipython3",
   "version": "3.7.3"
  }
 },
 "nbformat": 4,
 "nbformat_minor": 2
}
