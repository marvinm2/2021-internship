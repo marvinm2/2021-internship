{
 "cells": [
  {
   "cell_type": "markdown",
   "metadata": {},
   "source": [
    "# Code to convert Gene Lists from PathVisio into files ready for CyTargetLinker Linkset creation"
   ]
  },
  {
   "cell_type": "markdown",
   "metadata": {},
   "source": [
    "## Required imports"
   ]
  },
  {
   "cell_type": "code",
   "execution_count": 1,
   "metadata": {},
   "outputs": [],
   "source": [
    "import os\n",
    "from os import listdir\n",
    "import requests\n",
    "import json"
   ]
  },
  {
   "cell_type": "markdown",
   "metadata": {},
   "source": [
    "## Set directory location of pathway files"
   ]
  },
  {
   "cell_type": "code",
   "execution_count": 2,
   "metadata": {},
   "outputs": [],
   "source": [
    "location = 'pathwaysforlinkset/'"
   ]
  },
  {
   "cell_type": "markdown",
   "metadata": {},
   "source": [
    "## Step 1: find and list files"
   ]
  },
  {
   "cell_type": "markdown",
   "metadata": {},
   "source": [
    "It is expected that all files are stored with format [WP-ID].txt e.g. `WP5096.txt`"
   ]
  },
  {
   "cell_type": "code",
   "execution_count": 3,
   "metadata": {},
   "outputs": [
    {
     "name": "stdout",
     "output_type": "stream",
     "text": [
      "There are 8 Pathways in the folder: \n",
      "['WP5090.txt', 'WP5089.txt', 'WP5095.txt', 'WP5096.txt', 'WP5088.txt', 'WP5083.txt', 'WP5036.txt', 'WP5087.txt']\n"
     ]
    }
   ],
   "source": [
    "files = listdir(location)\n",
    "print(\"There are \"+str(len(files))+ \" Pathways in the folder: \\n\"+str(files)) "
   ]
  },
  {
   "cell_type": "markdown",
   "metadata": {},
   "source": [
    "## Step 2: read all files and GeneProduct nodes in dictionaries"
   ]
  },
  {
   "cell_type": "markdown",
   "metadata": {},
   "source": [
    "### Create dictionary"
   ]
  },
  {
   "cell_type": "code",
   "execution_count": 4,
   "metadata": {},
   "outputs": [],
   "source": [
    "d = {}\n",
    "dbs = set()"
   ]
  },
  {
   "cell_type": "markdown",
   "metadata": {},
   "source": [
    "### Fill dictionary"
   ]
  },
  {
   "cell_type": "code",
   "execution_count": 5,
   "metadata": {},
   "outputs": [
    {
     "name": "stdout",
     "output_type": "stream",
     "text": [
      "WP5090.txt has 138 DataNodes\n",
      "WP5089.txt has 10 DataNodes\n",
      "WP5095.txt has 134 DataNodes\n",
      "WP5096.txt has 29 DataNodes\n",
      "WP5088.txt has 41 DataNodes\n",
      "WP5083.txt has 178 DataNodes\n",
      "WP5036.txt has 37 DataNodes\n",
      "WP5087.txt has 113 DataNodes\n"
     ]
    }
   ],
   "source": [
    "for file in files:\n",
    "    d[file[:-4]] = set()\n",
    "    f = open(location+file, 'r')\n",
    "    for line in f:\n",
    "        d[file[:-4]].add(line[:-1])\n",
    "        dbs.add(line.split('\\t')[1][:-1])\n",
    "    print(str(file) + \" has \" + str(len(d[file[:-4]])) + \" DataNodes\")\n",
    "    f.close()"
   ]
  },
  {
   "cell_type": "code",
   "execution_count": 6,
   "metadata": {},
   "outputs": [
    {
     "name": "stdout",
     "output_type": "stream",
     "text": [
      "All databases in the set: \n",
      "{'Entrez Gene', 'Wikidata', 'Database', 'WikiPathways', 'Uniprot-TrEMBL', 'NCBI Protein', 'Reactome', 'HMDB', 'Enzyme Nomenclature', 'Ensembl', 'CAS', 'HGNC', 'KEGG Genes', 'ChEBI'}\n"
     ]
    }
   ],
   "source": [
    "print(\"All databases in the set: \\n\" + str(dbs))"
   ]
  },
  {
   "cell_type": "markdown",
   "metadata": {},
   "source": [
    "## Step 3: ID mapping"
   ]
  },
  {
   "cell_type": "code",
   "execution_count": 7,
   "metadata": {},
   "outputs": [],
   "source": [
    "bridgedb = 'https://webservice.bridgedb.org/Human/'"
   ]
  },
  {
   "cell_type": "code",
   "execution_count": 8,
   "metadata": {},
   "outputs": [],
   "source": [
    "syscodes = {'Ensembl':'En',\n",
    "            'Entrez Gene':'L',\n",
    "            'HGNC':'H',\n",
    "            'KEGG Genes':'Kg',\n",
    "            'NCBI Protein':'Np',\n",
    "            'Reactome':'Re',\n",
    "            'Uniprot-TrEMBL':'S',\n",
    "            'Wikidata':'Wd'}"
   ]
  },
  {
   "cell_type": "markdown",
   "metadata": {},
   "source": [
    "### Map all IDs to Entrez Gene IDs"
   ]
  },
  {
   "cell_type": "code",
   "execution_count": 9,
   "metadata": {},
   "outputs": [],
   "source": [
    "def idtoentrez (id,db):\n",
    "    a = requests.get(bridgedb + 'xrefs/' + db + '/' + str(id) + '?dataSource=L').text\n",
    "    if 'html' not in a:\n",
    "        return a.split('\\t')[0]"
   ]
  },
  {
   "cell_type": "code",
   "execution_count": 10,
   "metadata": {},
   "outputs": [
    {
     "name": "stdout",
     "output_type": "stream",
     "text": [
      "For WP5090 there are 107 mappings and 31 IDs were not mapped\n",
      "For WP5089 there are 8 mappings and 2 IDs were not mapped\n",
      "For WP5095 there are 130 mappings and 4 IDs were not mapped\n",
      "For WP5096 there are 29 mappings and 0 IDs were not mapped\n",
      "For WP5088 there are 35 mappings and 6 IDs were not mapped\n",
      "For WP5083 there are 141 mappings and 37 IDs were not mapped\n",
      "For WP5036 there are 29 mappings and 8 IDs were not mapped\n",
      "For WP5087 there are 110 mappings and 3 IDs were not mapped\n"
     ]
    }
   ],
   "source": [
    "identrez = {}\n",
    "for wp in d:\n",
    "    identrez[wp] = {}\n",
    "    nomappings = 0\n",
    "    mappings = 0\n",
    "    for item in d[wp]:\n",
    "        entrez = idtoentrez(item.split('\\t')[0],item.split('\\t')[1])\n",
    "        if not entrez == '':\n",
    "            identrez[wp][item] = entrez\n",
    "            mappings += 1\n",
    "        else:\n",
    "            nomappings += 1\n",
    "    print(\"For \" + str(wp) + \" there are \" + str(mappings) + \" mappings and \" + str(nomappings) + \" IDs were not mapped\")"
   ]
  },
  {
   "cell_type": "markdown",
   "metadata": {},
   "source": [
    "### Add all Gene names"
   ]
  },
  {
   "cell_type": "code",
   "execution_count": 11,
   "metadata": {},
   "outputs": [],
   "source": [
    "def entreztohgnc (entrez):\n",
    "    a = requests.get(bridgedb + 'xrefs/L/' + str(entrez) + '?dataSource=H').text\n",
    "    if 'html' not in a:\n",
    "        return a.split('\\t')[0]"
   ]
  },
  {
   "cell_type": "code",
   "execution_count": 12,
   "metadata": {},
   "outputs": [],
   "source": [
    "def wpidtotitle (wp):\n",
    "    a = requests.get('https://webservice.wikipathways.org/getPathwayInfo?pwId='+wp+'&format=json').text\n",
    "    title = a.split(',')[2].split(':')[1][1:-1]\n",
    "    if 'html' not in a:\n",
    "        return title"
   ]
  },
  {
   "cell_type": "code",
   "execution_count": null,
   "metadata": {},
   "outputs": [],
   "source": []
  },
  {
   "cell_type": "code",
   "execution_count": 16,
   "metadata": {},
   "outputs": [
    {
     "data": {
      "text/plain": [
       "38"
      ]
     },
     "execution_count": 16,
     "metadata": {},
     "output_type": "execute_result"
    }
   ],
   "source": [
    "g = open('idfile.txt','w')\n",
    "g.write('PathwayName\\tPathwayID\\tGeneName\\tGeneID\\n')"
   ]
  },
  {
   "cell_type": "code",
   "execution_count": 17,
   "metadata": {},
   "outputs": [],
   "source": [
    "for wp in identrez:\n",
    "    title = wpidtotitle(wp)\n",
    "    for item in identrez[wp]:\n",
    "        name = entreztohgnc(identrez[wp][item])\n",
    "        if identrez[wp][item] is not None:\n",
    "            g.write(str(title)\n",
    "                    + '\\t' + str(wp)\n",
    "                    +'\\t'+str(name)+'\\t'+str(identrez[wp][item])\n",
    "                    +'\\n')"
   ]
  },
  {
   "cell_type": "code",
   "execution_count": 18,
   "metadata": {},
   "outputs": [],
   "source": [
    "g.close()"
   ]
  },
  {
   "cell_type": "code",
   "execution_count": null,
   "metadata": {},
   "outputs": [],
   "source": []
  }
 ],
 "metadata": {
  "kernelspec": {
   "display_name": "Python 3",
   "language": "python",
   "name": "python3"
  },
  "language_info": {
   "codemirror_mode": {
    "name": "ipython",
    "version": 3
   },
   "file_extension": ".py",
   "mimetype": "text/x-python",
   "name": "python",
   "nbconvert_exporter": "python",
   "pygments_lexer": "ipython3",
   "version": "3.7.3"
  }
 },
 "nbformat": 4,
 "nbformat_minor": 2
}
