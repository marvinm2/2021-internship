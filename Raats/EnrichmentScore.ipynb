{
 "cells": [
  {
   "cell_type": "markdown",
   "metadata": {},
   "source": [
    "# Calculating Enrichment scores\n",
    "\n",
    "Applications that were used: Cytoscape (v.3.8.2) and Jupyter Notebooks (v.2.2.6) through the Anaconda navigator (v.1.10.0).\n",
    "\n",
    "In Cytoscape, the following app was installed: FileTransfer (v.1.1) for communication to Jupyter notebooks. \n",
    "To install apps in Cytoscape go to Apps -> App Manager -> Search\n",
    "\n",
    "For those new to working with Jupyter Notebooks, go to the [MarkDown Tutorial](https://www.markdowntutorial.com/lesson/1/) to learn how to comment your code properly. \n",
    "\n",
    "Now let's move on to the code. "
   ]
  },
  {
   "cell_type": "markdown",
   "metadata": {},
   "source": [
    "#### Here we will calculate enrichment scores using a loop. First we walk through making the enrichment score of one KE, then we will make a loop."
   ]
  },
  {
   "cell_type": "markdown",
   "metadata": {},
   "source": [
    "### Step 1a: Importing required packages"
   ]
  },
  {
   "cell_type": "code",
   "execution_count": 1,
   "metadata": {},
   "outputs": [],
   "source": [
    "import os\n",
    "import time\n",
    "import sys\n",
    "import requests\n",
    "import pandas as pd\n",
    "import py4cytoscape as p4c\n",
    "from lxml import etree as ET"
   ]
  },
  {
   "cell_type": "markdown",
   "metadata": {},
   "source": [
    "## Step 1b: Load code that prevents unwanted logging error"
   ]
  },
  {
   "cell_type": "code",
   "execution_count": 2,
   "metadata": {},
   "outputs": [],
   "source": [
    "from logging import getLogger, INFO\n",
    "from concurrent_log_handler import ConcurrentRotatingFileHandler"
   ]
  },
  {
   "cell_type": "code",
   "execution_count": 3,
   "metadata": {},
   "outputs": [],
   "source": [
    "log = getLogger()\n",
    "# Use an absolute path to prevent file rotation trouble.\n",
    "logfile = os.path.abspath(\"py4cytoscape.log\")\n",
    "# Rotate log after reaching 512K, keep 5 old copies.\n",
    "rotateHandler = ConcurrentRotatingFileHandler(logfile, \"a\", 512*1024, 5)\n",
    "log.addHandler(rotateHandler)\n",
    "log.setLevel(INFO)\n",
    "\n",
    "log.info(\"Here is a very exciting log message, just for you\")"
   ]
  },
  {
   "cell_type": "markdown",
   "metadata": {},
   "source": [
    "Check py4cytoscape version"
   ]
  },
  {
   "cell_type": "code",
   "execution_count": null,
   "metadata": {},
   "outputs": [],
   "source": [
    "p4c.cytoscape_version_info()"
   ]
  },
  {
   "cell_type": "markdown",
   "metadata": {},
   "source": [
    "## Step 2: Loading an existing network"
   ]
  },
  {
   "cell_type": "markdown",
   "metadata": {},
   "source": [
    "We are using a previously created network in .cys format. First we will define a new variable to the file path and then a new variable to the path+file name. You can also import files of different formats, such as the .sif format. Look into py4cytoscape documentation on how to import different file types. "
   ]
  },
  {
   "cell_type": "code",
   "execution_count": 5,
   "metadata": {},
   "outputs": [
    {
     "data": {
      "text/plain": [
       "'C:/Users/stefa/Documents/GitHub/2021-internship/Raats/networkDeleted.cys'"
      ]
     },
     "execution_count": 5,
     "metadata": {},
     "output_type": "execute_result"
    }
   ],
   "source": [
    "path = 'C:/Users/stefa/Documents/GitHub/2021-internship/Raats/'\n",
    "file_name = path + 'networkDeleted.cys'\n",
    "file_name"
   ]
  },
  {
   "cell_type": "markdown",
   "metadata": {},
   "source": [
    "Now we will load this network in cytoscape"
   ]
  },
  {
   "cell_type": "code",
   "execution_count": 6,
   "metadata": {},
   "outputs": [],
   "source": [
    "abs_file_name = os.path.abspath(file_name)"
   ]
  },
  {
   "cell_type": "code",
   "execution_count": 7,
   "metadata": {},
   "outputs": [],
   "source": [
    "session_cmd_list = ['session','open','file=\"',abs_file_name,'\"']\n",
    "session_cmd = \" \".join(session_cmd_list)"
   ]
  },
  {
   "cell_type": "code",
   "execution_count": 8,
   "metadata": {},
   "outputs": [
    {
     "data": {
      "text/plain": [
       "[]"
      ]
     },
     "execution_count": 8,
     "metadata": {},
     "output_type": "execute_result"
    }
   ],
   "source": [
    "p4c.commands.commands_run(session_cmd)"
   ]
  },
  {
   "cell_type": "markdown",
   "metadata": {},
   "source": [
    "## Step 3: Enrichment score for a specific event  \n",
    "First we will walk through calculating a single KE's enrichment score. This will make it more clear what each step does.  \n",
    "Afterwards, we create a for loop, which calculates all enrichment scores and puts it into a table. "
   ]
  },
  {
   "cell_type": "markdown",
   "metadata": {},
   "source": [
    "## Lists of N,n,B,b\n",
    "\n",
    "We need to calculate  \n",
    "N = total number of genes  \n",
    "n = number of target genes   \n",
    "B = total number of significant genes  \n",
    "b = total number of significant target genes\n",
    "\n",
    "We will calculate this using various filters.\n",
    "\n",
    "N = column filter type gene   \n",
    "n = first neighbour of X node  \n",
    "B = combined filter 1 = column filter type gene & sig < 0.05  \n",
    "b = combined list = first neighbour of X node & sig < 0.05   "
   ]
  },
  {
   "cell_type": "markdown",
   "metadata": {},
   "source": [
    "### Filter for all genes"
   ]
  },
  {
   "cell_type": "code",
   "execution_count": 32,
   "metadata": {},
   "outputs": [
    {
     "name": "stderr",
     "output_type": "stream",
     "text": [
      "Warning -- Cytoscape version pre-3.9 in use ... settling delay inserted after filter execution\n"
     ]
    },
    {
     "name": "stdout",
     "output_type": "stream",
     "text": [
      "No edges selected.\n"
     ]
    }
   ],
   "source": [
    "only_genes_filter = p4c.create_column_filter('only_genes_filter','CTL.Type', 'gene',  \"IS\")"
   ]
  },
  {
   "cell_type": "markdown",
   "metadata": {},
   "source": [
    "### Filter for significant genes"
   ]
  },
  {
   "cell_type": "code",
   "execution_count": 33,
   "metadata": {},
   "outputs": [
    {
     "name": "stderr",
     "output_type": "stream",
     "text": [
      "Warning -- Cytoscape version pre-3.9 in use ... settling delay inserted after filter execution\n"
     ]
    },
    {
     "name": "stdout",
     "output_type": "stream",
     "text": [
      "No edges selected.\n"
     ]
    }
   ],
   "source": [
    "sig_gene_filter = p4c.create_column_filter('sig_gene_filter','PValue', 0.05, \"LESS_THAN\")"
   ]
  },
  {
   "cell_type": "markdown",
   "metadata": {},
   "source": [
    "### Filter for first neighbour of X key event"
   ]
  },
  {
   "cell_type": "markdown",
   "metadata": {},
   "source": [
    "I chose the key event 'Oxidative stress'."
   ]
  },
  {
   "cell_type": "code",
   "execution_count": 34,
   "metadata": {},
   "outputs": [],
   "source": [
    "first_neighbour_list = p4c.get_first_neighbors('Oxidative stress', as_nested_list=False)"
   ]
  },
  {
   "cell_type": "markdown",
   "metadata": {},
   "source": [
    "### Combine filter for significant p value and genes "
   ]
  },
  {
   "cell_type": "code",
   "execution_count": 35,
   "metadata": {},
   "outputs": [
    {
     "name": "stderr",
     "output_type": "stream",
     "text": [
      "Warning -- Cytoscape version pre-3.9 in use ... settling delay inserted after filter execution\n"
     ]
    },
    {
     "name": "stdout",
     "output_type": "stream",
     "text": [
      "No edges selected.\n"
     ]
    }
   ],
   "source": [
    "combined_filter_1 = p4c.create_composite_filter('combined_filter_1', ['only_genes_filter', 'sig_gene_filter'])"
   ]
  },
  {
   "cell_type": "markdown",
   "metadata": {},
   "source": [
    "### Making the filter for significant genes of X key event"
   ]
  },
  {
   "cell_type": "code",
   "execution_count": 36,
   "metadata": {},
   "outputs": [],
   "source": [
    "dfSigGene = pd.DataFrame(sig_gene_filter)\n",
    "sig_gene_list = dfSigGene['nodes'].tolist()\n",
    "\n",
    "sigInKe = list(set(sig_gene_list) & set(first_neighbour_list))"
   ]
  },
  {
   "cell_type": "markdown",
   "metadata": {},
   "source": [
    "## Step 4: defining the variables\n",
    "Now we make dataframes of all lists, so we can get the length of all dataframes. Lengths are the numbers we will use for Enrichment calculation"
   ]
  },
  {
   "cell_type": "code",
   "execution_count": 57,
   "metadata": {},
   "outputs": [
    {
     "name": "stdout",
     "output_type": "stream",
     "text": [
      "\n",
      "N: Total number of genes:\n",
      "210\n",
      "\n",
      "n: Total number target set genes:\n",
      "29\n",
      "\n",
      "B: Total number of significant genes:\n",
      "66\n",
      "\n",
      "b: Total number of significant genes in target set:\n",
      "12\n"
     ]
    }
   ],
   "source": [
    "dftotalGenes = pd.DataFrame(only_genes_filter)\n",
    "dftotalSigGenes = pd.DataFrame(combined_filter_1)\n",
    "dfFirstNeighbours = pd.DataFrame(first_neighbour_list)\n",
    "dfSigInKe = pd.DataFrame(sigInKe)\n",
    "N = float(len(dftotalGenes))\n",
    "n = float(len(first_neighbour_list))\n",
    "B = float(len(dftotalSigGenes))\n",
    "b = float(len(sigInKe))\n",
    "print(f\"\\nN: Total number of genes:\\n{N}\")\n",
    "print(f\"\\nn: Total number target set genes:\\n{n}\")\n",
    "print(f\"\\nB: Total number of significant genes:\\n{B}\")\n",
    "print(f\"\\nb: Total number of significant genes in target set:\\n{b}\")"
   ]
  },
  {
   "cell_type": "markdown",
   "metadata": {},
   "source": [
    "## Step 5: Calculation of enrichment score  \n",
    "target % = significant genes in KE / total significant genes in set  \n",
    "background % = significant genes total / total genes in set  \n",
    "score = target% / background%  "
   ]
  },
  {
   "cell_type": "code",
   "execution_count": 15,
   "metadata": {},
   "outputs": [
    {
     "data": {
      "text/plain": [
       "1.316614420062696"
      ]
     },
     "execution_count": 15,
     "metadata": {},
     "output_type": "execute_result"
    }
   ],
   "source": [
    "score = (b/B) / (n/N)\n",
    "score"
   ]
  },
  {
   "cell_type": "markdown",
   "metadata": {},
   "source": [
    "# Step 6: Output table\n",
    "Before putting steps 3 through 5 in a loop, we create a bit of code to create an output table"
   ]
  },
  {
   "cell_type": "markdown",
   "metadata": {},
   "source": [
    "In my network, I wish to select all KE. These are coded as 'Pathway'"
   ]
  },
  {
   "cell_type": "code",
   "execution_count": 16,
   "metadata": {},
   "outputs": [
    {
     "name": "stderr",
     "output_type": "stream",
     "text": [
      "Warning -- Cytoscape version pre-3.9 in use ... settling delay inserted after filter execution\n"
     ]
    },
    {
     "name": "stdout",
     "output_type": "stream",
     "text": [
      "No edges selected.\n"
     ]
    }
   ],
   "source": [
    "only_KE_pathways = p4c.create_column_filter(\"only_KE_pathways\", 'Type', 'Pathway', \"IS\")"
   ]
  },
  {
   "cell_type": "markdown",
   "metadata": {},
   "source": [
    "Now we make a dataframe out of this list. We additionally add and remove some columns. Note that for the EnrichmentScore, we write down 0.0.   \n",
    "This automatically gives us a variable of the type float. Would we have written 0, it would have selected variable type integer, which we do not want.   \n",
    "\n",
    "Most importantly, we also make the variable *list_pathways*."
   ]
  },
  {
   "cell_type": "code",
   "execution_count": 21,
   "metadata": {},
   "outputs": [
    {
     "data": {
      "text/plain": [
       "['Overview of proinflammatory and profibrotic mediators',\n",
       " 'ACE2 inhibition',\n",
       " 'Angiotensin II receptor type 1 pathway',\n",
       " 'Collagen biosynthesis and modifying enzymes',\n",
       " 'NF-KB pathway',\n",
       " 'Oxidative stress',\n",
       " 'Renin Angiotensin Aldosterone System',\n",
       " 'Metabolism of Angiotensinogen to Angiotensins']"
      ]
     },
     "execution_count": 21,
     "metadata": {},
     "output_type": "execute_result"
    }
   ],
   "source": [
    "dfEnrichtmentScores = pd.DataFrame(only_KE_pathways)\n",
    "list_pathways = dfEnrichtmentScores['nodes'].tolist()\n",
    "list_pathways"
   ]
  },
  {
   "cell_type": "code",
   "execution_count": 22,
   "metadata": {},
   "outputs": [
    {
     "data": {
      "text/html": [
       "<div>\n",
       "<style scoped>\n",
       "    .dataframe tbody tr th:only-of-type {\n",
       "        vertical-align: middle;\n",
       "    }\n",
       "\n",
       "    .dataframe tbody tr th {\n",
       "        vertical-align: top;\n",
       "    }\n",
       "\n",
       "    .dataframe thead th {\n",
       "        text-align: right;\n",
       "    }\n",
       "</style>\n",
       "<table border=\"1\" class=\"dataframe\">\n",
       "  <thead>\n",
       "    <tr style=\"text-align: right;\">\n",
       "      <th></th>\n",
       "      <th>EnrichmentScore</th>\n",
       "    </tr>\n",
       "    <tr>\n",
       "      <th>nodes</th>\n",
       "      <th></th>\n",
       "    </tr>\n",
       "  </thead>\n",
       "  <tbody>\n",
       "    <tr>\n",
       "      <th>Overview of proinflammatory and profibrotic mediators</th>\n",
       "      <td>0.0</td>\n",
       "    </tr>\n",
       "    <tr>\n",
       "      <th>ACE2 inhibition</th>\n",
       "      <td>0.0</td>\n",
       "    </tr>\n",
       "    <tr>\n",
       "      <th>Angiotensin II receptor type 1 pathway</th>\n",
       "      <td>0.0</td>\n",
       "    </tr>\n",
       "    <tr>\n",
       "      <th>Collagen biosynthesis and modifying enzymes</th>\n",
       "      <td>0.0</td>\n",
       "    </tr>\n",
       "    <tr>\n",
       "      <th>NF-KB pathway</th>\n",
       "      <td>0.0</td>\n",
       "    </tr>\n",
       "    <tr>\n",
       "      <th>Oxidative stress</th>\n",
       "      <td>0.0</td>\n",
       "    </tr>\n",
       "    <tr>\n",
       "      <th>Renin Angiotensin Aldosterone System</th>\n",
       "      <td>0.0</td>\n",
       "    </tr>\n",
       "    <tr>\n",
       "      <th>Metabolism of Angiotensinogen to Angiotensins</th>\n",
       "      <td>0.0</td>\n",
       "    </tr>\n",
       "  </tbody>\n",
       "</table>\n",
       "</div>"
      ],
      "text/plain": [
       "                                                    EnrichmentScore\n",
       "nodes                                                              \n",
       "Overview of proinflammatory and profibrotic med...              0.0\n",
       "ACE2 inhibition                                                 0.0\n",
       "Angiotensin II receptor type 1 pathway                          0.0\n",
       "Collagen biosynthesis and modifying enzymes                     0.0\n",
       "NF-KB pathway                                                   0.0\n",
       "Oxidative stress                                                0.0\n",
       "Renin Angiotensin Aldosterone System                            0.0\n",
       "Metabolism of Angiotensinogen to Angiotensins                   0.0"
      ]
     },
     "execution_count": 22,
     "metadata": {},
     "output_type": "execute_result"
    }
   ],
   "source": [
    "dfEnrichtmentScores.drop('edges', axis=1, inplace=True)\n",
    "dfEnrichtmentScores['EnrichmentScore'] = 0.0\n",
    "dfEnrichtmentScores.set_index('nodes', inplace=True)\n",
    "dfEnrichtmentScores"
   ]
  },
  {
   "cell_type": "markdown",
   "metadata": {},
   "source": [
    "# Step 7: Loop time!  \n",
    "We use the list_pathways in our loop, that we have defined earlier.  \n",
    "It is included in the line that defines *first_neighbour_list*.  \n",
    "We also used the pathway list in *dfEnrichtmentScores.at*.  \n",
    "\n",
    "Additionally, we keep track of the time it takes to make the table. For me it takes around 35 seconds.  \n",
    "  \n",
    "Note that many cytoscape warnings will pop up, this is okay.   "
   ]
  },
  {
   "cell_type": "code",
   "execution_count": 85,
   "metadata": {},
   "outputs": [
    {
     "name": "stderr",
     "output_type": "stream",
     "text": [
      "Warning -- Cytoscape version pre-3.9 in use ... settling delay inserted after filter execution\n"
     ]
    },
    {
     "name": "stdout",
     "output_type": "stream",
     "text": [
      "No edges selected.\n"
     ]
    },
    {
     "name": "stderr",
     "output_type": "stream",
     "text": [
      "Warning -- Cytoscape version pre-3.9 in use ... settling delay inserted after filter execution\n"
     ]
    },
    {
     "name": "stdout",
     "output_type": "stream",
     "text": [
      "No edges selected.\n"
     ]
    },
    {
     "name": "stderr",
     "output_type": "stream",
     "text": [
      "Warning -- Cytoscape version pre-3.9 in use ... settling delay inserted after filter execution\n"
     ]
    },
    {
     "name": "stdout",
     "output_type": "stream",
     "text": [
      "No edges selected.\n"
     ]
    },
    {
     "name": "stderr",
     "output_type": "stream",
     "text": [
      "Warning -- Cytoscape version pre-3.9 in use ... settling delay inserted after filter execution\n"
     ]
    },
    {
     "name": "stdout",
     "output_type": "stream",
     "text": [
      "No edges selected.\n"
     ]
    },
    {
     "name": "stderr",
     "output_type": "stream",
     "text": [
      "Warning -- Cytoscape version pre-3.9 in use ... settling delay inserted after filter execution\n"
     ]
    },
    {
     "name": "stdout",
     "output_type": "stream",
     "text": [
      "No edges selected.\n"
     ]
    },
    {
     "name": "stderr",
     "output_type": "stream",
     "text": [
      "Warning -- Cytoscape version pre-3.9 in use ... settling delay inserted after filter execution\n"
     ]
    },
    {
     "name": "stdout",
     "output_type": "stream",
     "text": [
      "No edges selected.\n"
     ]
    },
    {
     "name": "stderr",
     "output_type": "stream",
     "text": [
      "Warning -- Cytoscape version pre-3.9 in use ... settling delay inserted after filter execution\n"
     ]
    },
    {
     "name": "stdout",
     "output_type": "stream",
     "text": [
      "No edges selected.\n"
     ]
    },
    {
     "name": "stderr",
     "output_type": "stream",
     "text": [
      "Warning -- Cytoscape version pre-3.9 in use ... settling delay inserted after filter execution\n"
     ]
    },
    {
     "name": "stdout",
     "output_type": "stream",
     "text": [
      "No edges selected.\n"
     ]
    },
    {
     "name": "stderr",
     "output_type": "stream",
     "text": [
      "Warning -- Cytoscape version pre-3.9 in use ... settling delay inserted after filter execution\n"
     ]
    },
    {
     "name": "stdout",
     "output_type": "stream",
     "text": [
      "No edges selected.\n"
     ]
    },
    {
     "name": "stderr",
     "output_type": "stream",
     "text": [
      "Warning -- Cytoscape version pre-3.9 in use ... settling delay inserted after filter execution\n"
     ]
    },
    {
     "name": "stdout",
     "output_type": "stream",
     "text": [
      "No edges selected.\n"
     ]
    },
    {
     "name": "stderr",
     "output_type": "stream",
     "text": [
      "Warning -- Cytoscape version pre-3.9 in use ... settling delay inserted after filter execution\n"
     ]
    },
    {
     "name": "stdout",
     "output_type": "stream",
     "text": [
      "No edges selected.\n"
     ]
    },
    {
     "name": "stderr",
     "output_type": "stream",
     "text": [
      "Warning -- Cytoscape version pre-3.9 in use ... settling delay inserted after filter execution\n"
     ]
    },
    {
     "name": "stdout",
     "output_type": "stream",
     "text": [
      "No edges selected.\n"
     ]
    },
    {
     "name": "stderr",
     "output_type": "stream",
     "text": [
      "Warning -- Cytoscape version pre-3.9 in use ... settling delay inserted after filter execution\n"
     ]
    },
    {
     "name": "stdout",
     "output_type": "stream",
     "text": [
      "No edges selected.\n"
     ]
    },
    {
     "name": "stderr",
     "output_type": "stream",
     "text": [
      "Warning -- Cytoscape version pre-3.9 in use ... settling delay inserted after filter execution\n"
     ]
    },
    {
     "name": "stdout",
     "output_type": "stream",
     "text": [
      "No edges selected.\n"
     ]
    },
    {
     "name": "stderr",
     "output_type": "stream",
     "text": [
      "Warning -- Cytoscape version pre-3.9 in use ... settling delay inserted after filter execution\n"
     ]
    },
    {
     "name": "stdout",
     "output_type": "stream",
     "text": [
      "No edges selected.\n"
     ]
    },
    {
     "name": "stderr",
     "output_type": "stream",
     "text": [
      "Warning -- Cytoscape version pre-3.9 in use ... settling delay inserted after filter execution\n"
     ]
    },
    {
     "name": "stdout",
     "output_type": "stream",
     "text": [
      "No edges selected.\n"
     ]
    },
    {
     "name": "stderr",
     "output_type": "stream",
     "text": [
      "Warning -- Cytoscape version pre-3.9 in use ... settling delay inserted after filter execution\n"
     ]
    },
    {
     "name": "stdout",
     "output_type": "stream",
     "text": [
      "No edges selected.\n"
     ]
    },
    {
     "name": "stderr",
     "output_type": "stream",
     "text": [
      "Warning -- Cytoscape version pre-3.9 in use ... settling delay inserted after filter execution\n"
     ]
    },
    {
     "name": "stdout",
     "output_type": "stream",
     "text": [
      "No edges selected.\n"
     ]
    },
    {
     "name": "stderr",
     "output_type": "stream",
     "text": [
      "Warning -- Cytoscape version pre-3.9 in use ... settling delay inserted after filter execution\n"
     ]
    },
    {
     "name": "stdout",
     "output_type": "stream",
     "text": [
      "No edges selected.\n"
     ]
    },
    {
     "name": "stderr",
     "output_type": "stream",
     "text": [
      "Warning -- Cytoscape version pre-3.9 in use ... settling delay inserted after filter execution\n"
     ]
    },
    {
     "name": "stdout",
     "output_type": "stream",
     "text": [
      "No edges selected.\n"
     ]
    },
    {
     "name": "stderr",
     "output_type": "stream",
     "text": [
      "Warning -- Cytoscape version pre-3.9 in use ... settling delay inserted after filter execution\n"
     ]
    },
    {
     "name": "stdout",
     "output_type": "stream",
     "text": [
      "No edges selected.\n"
     ]
    },
    {
     "name": "stderr",
     "output_type": "stream",
     "text": [
      "Warning -- Cytoscape version pre-3.9 in use ... settling delay inserted after filter execution\n"
     ]
    },
    {
     "name": "stdout",
     "output_type": "stream",
     "text": [
      "No edges selected.\n"
     ]
    },
    {
     "name": "stderr",
     "output_type": "stream",
     "text": [
      "Warning -- Cytoscape version pre-3.9 in use ... settling delay inserted after filter execution\n"
     ]
    },
    {
     "name": "stdout",
     "output_type": "stream",
     "text": [
      "No edges selected.\n"
     ]
    },
    {
     "name": "stderr",
     "output_type": "stream",
     "text": [
      "Warning -- Cytoscape version pre-3.9 in use ... settling delay inserted after filter execution\n"
     ]
    },
    {
     "name": "stdout",
     "output_type": "stream",
     "text": [
      "No edges selected.\n",
      "create took      32.27 seconds\n"
     ]
    }
   ],
   "source": [
    "start_create = time.monotonic()\n",
    "for pathway in list_pathways: \n",
    "\n",
    "    only_genes_filter = p4c.create_column_filter('only_genes_filter','CTL.Type', 'gene',  \"IS\")\n",
    "    sig_gene_filter = p4c.create_column_filter('sig_gene_filter','PValue', 0.05, \"LESS_THAN\")\n",
    "    first_neighbour_list = p4c.get_first_neighbors(pathway, as_nested_list=False)\n",
    "    combined_filter_1 = p4c.create_composite_filter('combined_filter_1', ['only_genes_filter', 'sig_gene_filter'])\n",
    "    dfSigGene = pd.DataFrame(sig_gene_filter)\n",
    "    sig_gene_list = dfSigGene['nodes'].tolist()\n",
    "\n",
    "    sigInKe = list(set(sig_gene_list) & set(first_neighbour_list))\n",
    "    dftotalGenes = pd.DataFrame(only_genes_filter)\n",
    "    dftotalSigGenes = pd.DataFrame(combined_filter_1)\n",
    "    dfFirstNeighbours = pd.DataFrame(first_neighbour_list)\n",
    "    dfSigInKe = pd.DataFrame(sigInKe)\n",
    "    N = float(len(dftotalGenes))\n",
    "    n = float(len(first_neighbour_list))\n",
    "    B = float(len(dftotalSigGenes))\n",
    "    b = float(len(sigInKe))\n",
    "\n",
    "    score = float((b/B) / (n/N))\n",
    "    dfEnrichtmentScores.at[pathway, 'EnrichmentScore'] = score\n",
    "print(f'create took {(time.monotonic() - start_create):10.2f} seconds')"
   ]
  },
  {
   "cell_type": "code",
   "execution_count": 24,
   "metadata": {},
   "outputs": [
    {
     "data": {
      "text/html": [
       "<div>\n",
       "<style scoped>\n",
       "    .dataframe tbody tr th:only-of-type {\n",
       "        vertical-align: middle;\n",
       "    }\n",
       "\n",
       "    .dataframe tbody tr th {\n",
       "        vertical-align: top;\n",
       "    }\n",
       "\n",
       "    .dataframe thead th {\n",
       "        text-align: right;\n",
       "    }\n",
       "</style>\n",
       "<table border=\"1\" class=\"dataframe\">\n",
       "  <thead>\n",
       "    <tr style=\"text-align: right;\">\n",
       "      <th></th>\n",
       "      <th>EnrichmentScore</th>\n",
       "    </tr>\n",
       "    <tr>\n",
       "      <th>nodes</th>\n",
       "      <th></th>\n",
       "    </tr>\n",
       "  </thead>\n",
       "  <tbody>\n",
       "    <tr>\n",
       "      <th>Overview of proinflammatory and profibrotic mediators</th>\n",
       "      <td>1.845455</td>\n",
       "    </tr>\n",
       "    <tr>\n",
       "      <th>ACE2 inhibition</th>\n",
       "      <td>0.318182</td>\n",
       "    </tr>\n",
       "    <tr>\n",
       "      <th>Angiotensin II receptor type 1 pathway</th>\n",
       "      <td>0.530303</td>\n",
       "    </tr>\n",
       "    <tr>\n",
       "      <th>Collagen biosynthesis and modifying enzymes</th>\n",
       "      <td>0.338491</td>\n",
       "    </tr>\n",
       "    <tr>\n",
       "      <th>NF-KB pathway</th>\n",
       "      <td>1.060606</td>\n",
       "    </tr>\n",
       "    <tr>\n",
       "      <th>Oxidative stress</th>\n",
       "      <td>1.316614</td>\n",
       "    </tr>\n",
       "    <tr>\n",
       "      <th>Renin Angiotensin Aldosterone System</th>\n",
       "      <td>0.513196</td>\n",
       "    </tr>\n",
       "    <tr>\n",
       "      <th>Metabolism of Angiotensinogen to Angiotensins</th>\n",
       "      <td>0.867769</td>\n",
       "    </tr>\n",
       "  </tbody>\n",
       "</table>\n",
       "</div>"
      ],
      "text/plain": [
       "                                                    EnrichmentScore\n",
       "nodes                                                              \n",
       "Overview of proinflammatory and profibrotic med...         1.845455\n",
       "ACE2 inhibition                                            0.318182\n",
       "Angiotensin II receptor type 1 pathway                     0.530303\n",
       "Collagen biosynthesis and modifying enzymes                0.338491\n",
       "NF-KB pathway                                              1.060606\n",
       "Oxidative stress                                           1.316614\n",
       "Renin Angiotensin Aldosterone System                       0.513196\n",
       "Metabolism of Angiotensinogen to Angiotensins              0.867769"
      ]
     },
     "execution_count": 24,
     "metadata": {},
     "output_type": "execute_result"
    }
   ],
   "source": [
    "dfEnrichtmentScores"
   ]
  },
  {
   "cell_type": "markdown",
   "metadata": {},
   "source": [
    "# Step 8: Loop for significance  \n",
    "\n",
    "To calculate signifiance for Enrichment scores, we use a hypergeometric distribution formula.   \n",
    "There might be a package available online that is able to easily import a HGT function. Since it is a small formula, I have decided to code it.   "
   ]
  },
  {
   "cell_type": "markdown",
   "metadata": {},
   "source": [
    "First we need to import math and create a second column"
   ]
  },
  {
   "cell_type": "code",
   "execution_count": 81,
   "metadata": {},
   "outputs": [],
   "source": [
    "import operator as op\n",
    "from functools import reduce\n",
    "\n",
    "def ncr(n, r):\n",
    "    r = min(r, n-r)\n",
    "    numer = reduce(op.mul, range(n, n-r, -1), 1)\n",
    "    denom = reduce(op.mul, range(1, r+1), 1)\n",
    "    return numer // denom  # or / in Python 2"
   ]
  },
  {
   "cell_type": "code",
   "execution_count": 86,
   "metadata": {},
   "outputs": [],
   "source": [
    "dfEnrichtmentScores['HGTscore'] = 0.0"
   ]
  },
  {
   "cell_type": "markdown",
   "metadata": {},
   "source": [
    "Now we calculate the score using the created N,n,B and b. "
   ]
  },
  {
   "cell_type": "code",
   "execution_count": 104,
   "metadata": {},
   "outputs": [
    {
     "name": "stderr",
     "output_type": "stream",
     "text": [
      "Warning -- Cytoscape version pre-3.9 in use ... settling delay inserted after filter execution\n"
     ]
    },
    {
     "name": "stdout",
     "output_type": "stream",
     "text": [
      "No edges selected.\n"
     ]
    },
    {
     "name": "stderr",
     "output_type": "stream",
     "text": [
      "Warning -- Cytoscape version pre-3.9 in use ... settling delay inserted after filter execution\n"
     ]
    },
    {
     "name": "stdout",
     "output_type": "stream",
     "text": [
      "No edges selected.\n"
     ]
    },
    {
     "name": "stderr",
     "output_type": "stream",
     "text": [
      "Warning -- Cytoscape version pre-3.9 in use ... settling delay inserted after filter execution\n"
     ]
    },
    {
     "name": "stdout",
     "output_type": "stream",
     "text": [
      "No edges selected.\n"
     ]
    },
    {
     "name": "stderr",
     "output_type": "stream",
     "text": [
      "Warning -- Cytoscape version pre-3.9 in use ... settling delay inserted after filter execution\n"
     ]
    },
    {
     "name": "stdout",
     "output_type": "stream",
     "text": [
      "No edges selected.\n"
     ]
    },
    {
     "name": "stderr",
     "output_type": "stream",
     "text": [
      "Warning -- Cytoscape version pre-3.9 in use ... settling delay inserted after filter execution\n"
     ]
    },
    {
     "name": "stdout",
     "output_type": "stream",
     "text": [
      "No edges selected.\n"
     ]
    },
    {
     "name": "stderr",
     "output_type": "stream",
     "text": [
      "Warning -- Cytoscape version pre-3.9 in use ... settling delay inserted after filter execution\n"
     ]
    },
    {
     "name": "stdout",
     "output_type": "stream",
     "text": [
      "No edges selected.\n"
     ]
    },
    {
     "name": "stderr",
     "output_type": "stream",
     "text": [
      "Warning -- Cytoscape version pre-3.9 in use ... settling delay inserted after filter execution\n"
     ]
    },
    {
     "name": "stdout",
     "output_type": "stream",
     "text": [
      "No edges selected.\n"
     ]
    },
    {
     "name": "stderr",
     "output_type": "stream",
     "text": [
      "Warning -- Cytoscape version pre-3.9 in use ... settling delay inserted after filter execution\n"
     ]
    },
    {
     "name": "stdout",
     "output_type": "stream",
     "text": [
      "No edges selected.\n"
     ]
    },
    {
     "name": "stderr",
     "output_type": "stream",
     "text": [
      "Warning -- Cytoscape version pre-3.9 in use ... settling delay inserted after filter execution\n"
     ]
    },
    {
     "name": "stdout",
     "output_type": "stream",
     "text": [
      "No edges selected.\n"
     ]
    },
    {
     "name": "stderr",
     "output_type": "stream",
     "text": [
      "Warning -- Cytoscape version pre-3.9 in use ... settling delay inserted after filter execution\n"
     ]
    },
    {
     "name": "stdout",
     "output_type": "stream",
     "text": [
      "No edges selected.\n"
     ]
    },
    {
     "name": "stderr",
     "output_type": "stream",
     "text": [
      "Warning -- Cytoscape version pre-3.9 in use ... settling delay inserted after filter execution\n"
     ]
    },
    {
     "name": "stdout",
     "output_type": "stream",
     "text": [
      "No edges selected.\n"
     ]
    },
    {
     "name": "stderr",
     "output_type": "stream",
     "text": [
      "Warning -- Cytoscape version pre-3.9 in use ... settling delay inserted after filter execution\n"
     ]
    },
    {
     "name": "stdout",
     "output_type": "stream",
     "text": [
      "No edges selected.\n"
     ]
    },
    {
     "name": "stderr",
     "output_type": "stream",
     "text": [
      "Warning -- Cytoscape version pre-3.9 in use ... settling delay inserted after filter execution\n"
     ]
    },
    {
     "name": "stdout",
     "output_type": "stream",
     "text": [
      "No edges selected.\n"
     ]
    },
    {
     "name": "stderr",
     "output_type": "stream",
     "text": [
      "Warning -- Cytoscape version pre-3.9 in use ... settling delay inserted after filter execution\n"
     ]
    },
    {
     "name": "stdout",
     "output_type": "stream",
     "text": [
      "No edges selected.\n"
     ]
    },
    {
     "name": "stderr",
     "output_type": "stream",
     "text": [
      "Warning -- Cytoscape version pre-3.9 in use ... settling delay inserted after filter execution\n"
     ]
    },
    {
     "name": "stdout",
     "output_type": "stream",
     "text": [
      "No edges selected.\n"
     ]
    },
    {
     "name": "stderr",
     "output_type": "stream",
     "text": [
      "Warning -- Cytoscape version pre-3.9 in use ... settling delay inserted after filter execution\n"
     ]
    },
    {
     "name": "stdout",
     "output_type": "stream",
     "text": [
      "No edges selected.\n"
     ]
    },
    {
     "name": "stderr",
     "output_type": "stream",
     "text": [
      "Warning -- Cytoscape version pre-3.9 in use ... settling delay inserted after filter execution\n"
     ]
    },
    {
     "name": "stdout",
     "output_type": "stream",
     "text": [
      "No edges selected.\n"
     ]
    },
    {
     "name": "stderr",
     "output_type": "stream",
     "text": [
      "Warning -- Cytoscape version pre-3.9 in use ... settling delay inserted after filter execution\n"
     ]
    },
    {
     "name": "stdout",
     "output_type": "stream",
     "text": [
      "No edges selected.\n"
     ]
    },
    {
     "name": "stderr",
     "output_type": "stream",
     "text": [
      "Warning -- Cytoscape version pre-3.9 in use ... settling delay inserted after filter execution\n"
     ]
    },
    {
     "name": "stdout",
     "output_type": "stream",
     "text": [
      "No edges selected.\n"
     ]
    },
    {
     "name": "stderr",
     "output_type": "stream",
     "text": [
      "Warning -- Cytoscape version pre-3.9 in use ... settling delay inserted after filter execution\n"
     ]
    },
    {
     "name": "stdout",
     "output_type": "stream",
     "text": [
      "No edges selected.\n"
     ]
    },
    {
     "name": "stderr",
     "output_type": "stream",
     "text": [
      "Warning -- Cytoscape version pre-3.9 in use ... settling delay inserted after filter execution\n"
     ]
    },
    {
     "name": "stdout",
     "output_type": "stream",
     "text": [
      "No edges selected.\n"
     ]
    },
    {
     "name": "stderr",
     "output_type": "stream",
     "text": [
      "Warning -- Cytoscape version pre-3.9 in use ... settling delay inserted after filter execution\n"
     ]
    },
    {
     "name": "stdout",
     "output_type": "stream",
     "text": [
      "No edges selected.\n"
     ]
    },
    {
     "name": "stderr",
     "output_type": "stream",
     "text": [
      "Warning -- Cytoscape version pre-3.9 in use ... settling delay inserted after filter execution\n"
     ]
    },
    {
     "name": "stdout",
     "output_type": "stream",
     "text": [
      "No edges selected.\n"
     ]
    },
    {
     "name": "stderr",
     "output_type": "stream",
     "text": [
      "Warning -- Cytoscape version pre-3.9 in use ... settling delay inserted after filter execution\n"
     ]
    },
    {
     "name": "stdout",
     "output_type": "stream",
     "text": [
      "No edges selected.\n",
      "create took      32.61 seconds\n"
     ]
    }
   ],
   "source": [
    "start_create = time.monotonic()\n",
    "for pathway in list_pathways: \n",
    "\n",
    "    only_genes_filter = p4c.create_column_filter('only_genes_filter','CTL.Type', 'gene',  \"IS\")\n",
    "    sig_gene_filter = p4c.create_column_filter('sig_gene_filter','PValue', 0.05, \"LESS_THAN\")\n",
    "    first_neighbour_list = p4c.get_first_neighbors(pathway, as_nested_list=False)\n",
    "    combined_filter_1 = p4c.create_composite_filter('combined_filter_1', ['only_genes_filter', 'sig_gene_filter'])\n",
    "    dfSigGene = pd.DataFrame(sig_gene_filter)\n",
    "    sig_gene_list = dfSigGene['nodes'].tolist()\n",
    "\n",
    "    sigInKe = list(set(sig_gene_list) & set(first_neighbour_list))\n",
    "    dftotalGenes = pd.DataFrame(only_genes_filter)\n",
    "    dftotalSigGenes = pd.DataFrame(combined_filter_1)\n",
    "    dfFirstNeighbours = pd.DataFrame(first_neighbour_list)\n",
    "    dfSigInKe = pd.DataFrame(sigInKe)\n",
    "    N = len(dftotalGenes)\n",
    "    n = len(first_neighbour_list)\n",
    "    B = len(dftotalSigGenes)\n",
    "    b = len(sigInKe)\n",
    "\n",
    "    num = N-n\n",
    "    den = B-b\n",
    "    alpha = ncr(n,b)\n",
    "    beta = ncr(num, den)\n",
    "    gamma = ncr(N,B)\n",
    "    delta = alpha * beta\n",
    "    \n",
    "    score = delta / gamma    \n",
    "    dfEnrichtmentScores.at[pathway, 'HGTscore'] = score\n",
    "print(f'create took {(time.monotonic() - start_create):10.2f} seconds')"
   ]
  },
  {
   "cell_type": "code",
   "execution_count": 105,
   "metadata": {},
   "outputs": [
    {
     "data": {
      "text/html": [
       "<div>\n",
       "<style scoped>\n",
       "    .dataframe tbody tr th:only-of-type {\n",
       "        vertical-align: middle;\n",
       "    }\n",
       "\n",
       "    .dataframe tbody tr th {\n",
       "        vertical-align: top;\n",
       "    }\n",
       "\n",
       "    .dataframe thead th {\n",
       "        text-align: right;\n",
       "    }\n",
       "</style>\n",
       "<table border=\"1\" class=\"dataframe\">\n",
       "  <thead>\n",
       "    <tr style=\"text-align: right;\">\n",
       "      <th></th>\n",
       "      <th>EnrichmentScore</th>\n",
       "      <th>HGTscore</th>\n",
       "    </tr>\n",
       "    <tr>\n",
       "      <th>nodes</th>\n",
       "      <th></th>\n",
       "      <th></th>\n",
       "    </tr>\n",
       "  </thead>\n",
       "  <tbody>\n",
       "    <tr>\n",
       "      <th>Overview of proinflammatory and profibrotic mediators</th>\n",
       "      <td>1.845455</td>\n",
       "      <td>0.000005</td>\n",
       "    </tr>\n",
       "    <tr>\n",
       "      <th>ACE2 inhibition</th>\n",
       "      <td>0.318182</td>\n",
       "      <td>0.101470</td>\n",
       "    </tr>\n",
       "    <tr>\n",
       "      <th>Angiotensin II receptor type 1 pathway</th>\n",
       "      <td>0.530303</td>\n",
       "      <td>0.049078</td>\n",
       "    </tr>\n",
       "    <tr>\n",
       "      <th>Collagen biosynthesis and modifying enzymes</th>\n",
       "      <td>0.338491</td>\n",
       "      <td>0.000180</td>\n",
       "    </tr>\n",
       "    <tr>\n",
       "      <th>NF-KB pathway</th>\n",
       "      <td>1.060606</td>\n",
       "      <td>0.277184</td>\n",
       "    </tr>\n",
       "    <tr>\n",
       "      <th>Oxidative stress</th>\n",
       "      <td>1.316614</td>\n",
       "      <td>0.077468</td>\n",
       "    </tr>\n",
       "    <tr>\n",
       "      <th>Renin Angiotensin Aldosterone System</th>\n",
       "      <td>0.513196</td>\n",
       "      <td>0.022770</td>\n",
       "    </tr>\n",
       "    <tr>\n",
       "      <th>Metabolism of Angiotensinogen to Angiotensins</th>\n",
       "      <td>0.867769</td>\n",
       "      <td>0.256062</td>\n",
       "    </tr>\n",
       "  </tbody>\n",
       "</table>\n",
       "</div>"
      ],
      "text/plain": [
       "                                                    EnrichmentScore  HGTscore\n",
       "nodes                                                                        \n",
       "Overview of proinflammatory and profibrotic med...         1.845455  0.000005\n",
       "ACE2 inhibition                                            0.318182  0.101470\n",
       "Angiotensin II receptor type 1 pathway                     0.530303  0.049078\n",
       "Collagen biosynthesis and modifying enzymes                0.338491  0.000180\n",
       "NF-KB pathway                                              1.060606  0.277184\n",
       "Oxidative stress                                           1.316614  0.077468\n",
       "Renin Angiotensin Aldosterone System                       0.513196  0.022770\n",
       "Metabolism of Angiotensinogen to Angiotensins              0.867769  0.256062"
      ]
     },
     "execution_count": 105,
     "metadata": {},
     "output_type": "execute_result"
    }
   ],
   "source": [
    "dfEnrichtmentScores"
   ]
  },
  {
   "cell_type": "markdown",
   "metadata": {},
   "source": [
    "## Step 9: Finishing up\n",
    "  \n",
    "Now let us create a third column, which will make it easy to see which KEs are significant and which are not. "
   ]
  },
  {
   "cell_type": "code",
   "execution_count": 114,
   "metadata": {},
   "outputs": [
    {
     "data": {
      "text/html": [
       "<div>\n",
       "<style scoped>\n",
       "    .dataframe tbody tr th:only-of-type {\n",
       "        vertical-align: middle;\n",
       "    }\n",
       "\n",
       "    .dataframe tbody tr th {\n",
       "        vertical-align: top;\n",
       "    }\n",
       "\n",
       "    .dataframe thead th {\n",
       "        text-align: right;\n",
       "    }\n",
       "</style>\n",
       "<table border=\"1\" class=\"dataframe\">\n",
       "  <thead>\n",
       "    <tr style=\"text-align: right;\">\n",
       "      <th></th>\n",
       "      <th>EnrichmentScore</th>\n",
       "      <th>HGTscore</th>\n",
       "      <th>Significant</th>\n",
       "    </tr>\n",
       "    <tr>\n",
       "      <th>nodes</th>\n",
       "      <th></th>\n",
       "      <th></th>\n",
       "      <th></th>\n",
       "    </tr>\n",
       "  </thead>\n",
       "  <tbody>\n",
       "    <tr>\n",
       "      <th>Overview of proinflammatory and profibrotic mediators</th>\n",
       "      <td>1.845455</td>\n",
       "      <td>0.000005</td>\n",
       "      <td>True</td>\n",
       "    </tr>\n",
       "    <tr>\n",
       "      <th>ACE2 inhibition</th>\n",
       "      <td>0.318182</td>\n",
       "      <td>0.101470</td>\n",
       "      <td>False</td>\n",
       "    </tr>\n",
       "    <tr>\n",
       "      <th>Angiotensin II receptor type 1 pathway</th>\n",
       "      <td>0.530303</td>\n",
       "      <td>0.049078</td>\n",
       "      <td>True</td>\n",
       "    </tr>\n",
       "    <tr>\n",
       "      <th>Collagen biosynthesis and modifying enzymes</th>\n",
       "      <td>0.338491</td>\n",
       "      <td>0.000180</td>\n",
       "      <td>True</td>\n",
       "    </tr>\n",
       "    <tr>\n",
       "      <th>NF-KB pathway</th>\n",
       "      <td>1.060606</td>\n",
       "      <td>0.277184</td>\n",
       "      <td>False</td>\n",
       "    </tr>\n",
       "    <tr>\n",
       "      <th>Oxidative stress</th>\n",
       "      <td>1.316614</td>\n",
       "      <td>0.077468</td>\n",
       "      <td>False</td>\n",
       "    </tr>\n",
       "    <tr>\n",
       "      <th>Renin Angiotensin Aldosterone System</th>\n",
       "      <td>0.513196</td>\n",
       "      <td>0.022770</td>\n",
       "      <td>True</td>\n",
       "    </tr>\n",
       "    <tr>\n",
       "      <th>Metabolism of Angiotensinogen to Angiotensins</th>\n",
       "      <td>0.867769</td>\n",
       "      <td>0.256062</td>\n",
       "      <td>False</td>\n",
       "    </tr>\n",
       "  </tbody>\n",
       "</table>\n",
       "</div>"
      ],
      "text/plain": [
       "                                                    EnrichmentScore  HGTscore  \\\n",
       "nodes                                                                           \n",
       "Overview of proinflammatory and profibrotic med...         1.845455  0.000005   \n",
       "ACE2 inhibition                                            0.318182  0.101470   \n",
       "Angiotensin II receptor type 1 pathway                     0.530303  0.049078   \n",
       "Collagen biosynthesis and modifying enzymes                0.338491  0.000180   \n",
       "NF-KB pathway                                              1.060606  0.277184   \n",
       "Oxidative stress                                           1.316614  0.077468   \n",
       "Renin Angiotensin Aldosterone System                       0.513196  0.022770   \n",
       "Metabolism of Angiotensinogen to Angiotensins              0.867769  0.256062   \n",
       "\n",
       "                                                    Significant  \n",
       "nodes                                                            \n",
       "Overview of proinflammatory and profibrotic med...         True  \n",
       "ACE2 inhibition                                           False  \n",
       "Angiotensin II receptor type 1 pathway                     True  \n",
       "Collagen biosynthesis and modifying enzymes                True  \n",
       "NF-KB pathway                                             False  \n",
       "Oxidative stress                                          False  \n",
       "Renin Angiotensin Aldosterone System                       True  \n",
       "Metabolism of Angiotensinogen to Angiotensins             False  "
      ]
     },
     "execution_count": 114,
     "metadata": {},
     "output_type": "execute_result"
    }
   ],
   "source": [
    "dfEnrichtmentScores['Significant'] = False\n",
    "dfEnrichtmentScores.loc[dfEnrichtmentScores['HGTscore'] < 0.05, 'Significant'] = True\n",
    "dfEnrichtmentScores"
   ]
  },
  {
   "cell_type": "markdown",
   "metadata": {},
   "source": [
    "Finally, let us tidy up the dataframe. "
   ]
  },
  {
   "cell_type": "code",
   "execution_count": 120,
   "metadata": {},
   "outputs": [
    {
     "data": {
      "text/html": [
       "<div>\n",
       "<style scoped>\n",
       "    .dataframe tbody tr th:only-of-type {\n",
       "        vertical-align: middle;\n",
       "    }\n",
       "\n",
       "    .dataframe tbody tr th {\n",
       "        vertical-align: top;\n",
       "    }\n",
       "\n",
       "    .dataframe thead th {\n",
       "        text-align: right;\n",
       "    }\n",
       "</style>\n",
       "<table border=\"1\" class=\"dataframe\">\n",
       "  <thead>\n",
       "    <tr style=\"text-align: right;\">\n",
       "      <th></th>\n",
       "      <th>EnrichmentScore</th>\n",
       "      <th>HGTscore</th>\n",
       "      <th>Significant</th>\n",
       "    </tr>\n",
       "    <tr>\n",
       "      <th>KE</th>\n",
       "      <th></th>\n",
       "      <th></th>\n",
       "      <th></th>\n",
       "    </tr>\n",
       "  </thead>\n",
       "  <tbody>\n",
       "    <tr>\n",
       "      <th>Overview of proinflammatory and profibrotic mediators</th>\n",
       "      <td>1.845455</td>\n",
       "      <td>0.000005</td>\n",
       "      <td>True</td>\n",
       "    </tr>\n",
       "    <tr>\n",
       "      <th>ACE2 inhibition</th>\n",
       "      <td>0.318182</td>\n",
       "      <td>0.101470</td>\n",
       "      <td>False</td>\n",
       "    </tr>\n",
       "    <tr>\n",
       "      <th>Angiotensin II receptor type 1 pathway</th>\n",
       "      <td>0.530303</td>\n",
       "      <td>0.049078</td>\n",
       "      <td>True</td>\n",
       "    </tr>\n",
       "    <tr>\n",
       "      <th>Collagen biosynthesis and modifying enzymes</th>\n",
       "      <td>0.338491</td>\n",
       "      <td>0.000180</td>\n",
       "      <td>True</td>\n",
       "    </tr>\n",
       "    <tr>\n",
       "      <th>NF-KB pathway</th>\n",
       "      <td>1.060606</td>\n",
       "      <td>0.277184</td>\n",
       "      <td>False</td>\n",
       "    </tr>\n",
       "    <tr>\n",
       "      <th>Oxidative stress</th>\n",
       "      <td>1.316614</td>\n",
       "      <td>0.077468</td>\n",
       "      <td>False</td>\n",
       "    </tr>\n",
       "    <tr>\n",
       "      <th>Renin Angiotensin Aldosterone System</th>\n",
       "      <td>0.513196</td>\n",
       "      <td>0.022770</td>\n",
       "      <td>True</td>\n",
       "    </tr>\n",
       "    <tr>\n",
       "      <th>Metabolism of Angiotensinogen to Angiotensins</th>\n",
       "      <td>0.867769</td>\n",
       "      <td>0.256062</td>\n",
       "      <td>False</td>\n",
       "    </tr>\n",
       "  </tbody>\n",
       "</table>\n",
       "</div>"
      ],
      "text/plain": [
       "                                                    EnrichmentScore  HGTscore  \\\n",
       "KE                                                                              \n",
       "Overview of proinflammatory and profibrotic med...         1.845455  0.000005   \n",
       "ACE2 inhibition                                            0.318182  0.101470   \n",
       "Angiotensin II receptor type 1 pathway                     0.530303  0.049078   \n",
       "Collagen biosynthesis and modifying enzymes                0.338491  0.000180   \n",
       "NF-KB pathway                                              1.060606  0.277184   \n",
       "Oxidative stress                                           1.316614  0.077468   \n",
       "Renin Angiotensin Aldosterone System                       0.513196  0.022770   \n",
       "Metabolism of Angiotensinogen to Angiotensins              0.867769  0.256062   \n",
       "\n",
       "                                                    Significant  \n",
       "KE                                                               \n",
       "Overview of proinflammatory and profibrotic med...         True  \n",
       "ACE2 inhibition                                           False  \n",
       "Angiotensin II receptor type 1 pathway                     True  \n",
       "Collagen biosynthesis and modifying enzymes                True  \n",
       "NF-KB pathway                                             False  \n",
       "Oxidative stress                                          False  \n",
       "Renin Angiotensin Aldosterone System                       True  \n",
       "Metabolism of Angiotensinogen to Angiotensins             False  "
      ]
     },
     "execution_count": 120,
     "metadata": {},
     "output_type": "execute_result"
    }
   ],
   "source": [
    "dfEnrichtmentScores.index.name = 'KE'\n",
    "dfEnrichtmentScores"
   ]
  },
  {
   "cell_type": "code",
   "execution_count": null,
   "metadata": {},
   "outputs": [],
   "source": [
    "dfEnrichmentscore..to_csv(r'Path where you want to store the exported CSV file\\File Name.csv', index = False)\n"
   ]
  }
 ],
 "metadata": {
  "kernelspec": {
   "display_name": "Python 3",
   "language": "python",
   "name": "python3"
  },
  "language_info": {
   "codemirror_mode": {
    "name": "ipython",
    "version": 3
   },
   "file_extension": ".py",
   "mimetype": "text/x-python",
   "name": "python",
   "nbconvert_exporter": "python",
   "pygments_lexer": "ipython3",
   "version": "3.8.5"
  }
 },
 "nbformat": 4,
 "nbformat_minor": 4
}
