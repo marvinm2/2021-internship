{
 "cells": [
  {
   "cell_type": "markdown",
   "metadata": {},
   "source": [
    "# Individual Pathway\n",
    "\n",
    "Applications that were used: Cytoscape (v.3.8.2) and Jupyter Notebooks (v.2.2.6) through the Anaconda navigator (v.1.10.0).\n",
    "\n",
    "In Cytoscape, the following app was installed: FileTransfer (v.1.1) for communication to Jupyter notebooks. \n",
    "To install apps in Cytoscape go to Apps -> App Manager -> Search\n",
    "\n",
    "For those new to working with Jupyter Notebooks, go to the [MarkDown Tutorial](https://www.markdowntutorial.com/lesson/1/) to learn how to comment your code properly. \n",
    "\n",
    "Now let's move on to the code. "
   ]
  },
  {
   "cell_type": "markdown",
   "metadata": {},
   "source": [
    "#### Here we will walk through loading a pathway, adding data, adding expression and significance visualizations and finally exporting the result to an image. "
   ]
  },
  {
   "cell_type": "markdown",
   "metadata": {},
   "source": [
    "## Step 1a: Importing Required Packages"
   ]
  },
  {
   "cell_type": "code",
   "execution_count": 27,
   "metadata": {},
   "outputs": [],
   "source": [
    "import os\n",
    "import sys\n",
    "import requests\n",
    "import pandas as pd\n",
    "import py4cytoscape as p4c\n",
    "from lxml import etree as ET"
   ]
  },
  {
   "cell_type": "markdown",
   "metadata": {},
   "source": [
    "## Step 1b: Load code that prevents unwanted logging error"
   ]
  },
  {
   "cell_type": "code",
   "execution_count": 28,
   "metadata": {},
   "outputs": [],
   "source": [
    "from logging import getLogger, INFO\n",
    "from concurrent_log_handler import ConcurrentRotatingFileHandler"
   ]
  },
  {
   "cell_type": "code",
   "execution_count": 29,
   "metadata": {},
   "outputs": [],
   "source": [
    "log = getLogger()\n",
    "# Use an absolute path to prevent file rotation trouble.\n",
    "logfile = os.path.abspath(\"py4cytoscape.log\")\n",
    "# Rotate log after reaching 512K, keep 5 old copies.\n",
    "rotateHandler = ConcurrentRotatingFileHandler(logfile, \"a\", 512*1024, 5)\n",
    "log.addHandler(rotateHandler)\n",
    "log.setLevel(INFO)\n",
    "\n",
    "log.info(\"Here is a very exciting log message, just for you\")"
   ]
  },
  {
   "cell_type": "markdown",
   "metadata": {},
   "source": [
    "Check py4cytoscape version"
   ]
  },
  {
   "cell_type": "code",
   "execution_count": 30,
   "metadata": {},
   "outputs": [
    {
     "data": {
      "text/plain": [
       "{'apiVersion': 'v1',\n",
       " 'cytoscapeVersion': '3.8.2',\n",
       " 'automationAPIVersion': '1.2.0',\n",
       " 'py4cytoscapeVersion': '0.0.9'}"
      ]
     },
     "execution_count": 30,
     "metadata": {},
     "output_type": "execute_result"
    }
   ],
   "source": [
    "p4c.cytoscape_version_info()"
   ]
  },
  {
   "cell_type": "markdown",
   "metadata": {},
   "source": [
    "# Step 2: Load a pathway from WikiPathways"
   ]
  },
  {
   "cell_type": "markdown",
   "metadata": {},
   "source": [
    "You can change the WP_ID variable to a desired WikiPathways ID. Note we use the 'import-as-pathway' option. "
   ]
  },
  {
   "cell_type": "code",
   "execution_count": 50,
   "metadata": {},
   "outputs": [],
   "source": [
    "#Defining wikipathway IDs: WP5036, WP5095, WP2725, WP4756\n",
    "WP_ID = 'WP4756'"
   ]
  },
  {
   "cell_type": "code",
   "execution_count": 51,
   "metadata": {},
   "outputs": [
    {
     "data": {
      "text/plain": [
       "[]"
      ]
     },
     "execution_count": 51,
     "metadata": {},
     "output_type": "execute_result"
    }
   ],
   "source": [
    "cmd_list = ['wikipathways','import-as-pathway','id=\"', WP_ID,'\"']\n",
    "cmd = \" \".join(cmd_list)\n",
    "p4c.commands.commands_get(cmd)"
   ]
  },
  {
   "cell_type": "markdown",
   "metadata": {},
   "source": [
    "## Step 3: Add data"
   ]
  },
  {
   "cell_type": "markdown",
   "metadata": {},
   "source": [
    "Now we will add expression data from a file. Change the file location and name to select your own file. "
   ]
  },
  {
   "cell_type": "code",
   "execution_count": 52,
   "metadata": {},
   "outputs": [],
   "source": [
    "path = 'C:/Users/stefa/Documents/GitHub/2021-internship/Raats/'"
   ]
  },
  {
   "cell_type": "code",
   "execution_count": 53,
   "metadata": {},
   "outputs": [
    {
     "data": {
      "text/html": [
       "<div>\n",
       "<style scoped>\n",
       "    .dataframe tbody tr th:only-of-type {\n",
       "        vertical-align: middle;\n",
       "    }\n",
       "\n",
       "    .dataframe tbody tr th {\n",
       "        vertical-align: top;\n",
       "    }\n",
       "\n",
       "    .dataframe thead th {\n",
       "        text-align: right;\n",
       "    }\n",
       "</style>\n",
       "<table border=\"1\" class=\"dataframe\">\n",
       "  <thead>\n",
       "    <tr style=\"text-align: right;\">\n",
       "      <th></th>\n",
       "      <th>Unnamed: 0</th>\n",
       "      <th>logFC</th>\n",
       "      <th>logCPM</th>\n",
       "      <th>F</th>\n",
       "      <th>PValue</th>\n",
       "      <th>FDR</th>\n",
       "    </tr>\n",
       "  </thead>\n",
       "  <tbody>\n",
       "    <tr>\n",
       "      <th>0</th>\n",
       "      <td>SAA2</td>\n",
       "      <td>2.414265</td>\n",
       "      <td>5.432500</td>\n",
       "      <td>512.091071</td>\n",
       "      <td>1.406545e-12</td>\n",
       "      <td>1.877738e-08</td>\n",
       "    </tr>\n",
       "    <tr>\n",
       "      <th>1</th>\n",
       "      <td>CCL20</td>\n",
       "      <td>3.133684</td>\n",
       "      <td>4.949061</td>\n",
       "      <td>447.918174</td>\n",
       "      <td>3.560546e-12</td>\n",
       "      <td>2.376665e-08</td>\n",
       "    </tr>\n",
       "    <tr>\n",
       "      <th>2</th>\n",
       "      <td>IL36G</td>\n",
       "      <td>2.722310</td>\n",
       "      <td>4.359048</td>\n",
       "      <td>340.454929</td>\n",
       "      <td>2.359692e-11</td>\n",
       "      <td>1.050063e-07</td>\n",
       "    </tr>\n",
       "    <tr>\n",
       "      <th>3</th>\n",
       "      <td>INHBA</td>\n",
       "      <td>1.810556</td>\n",
       "      <td>6.511435</td>\n",
       "      <td>272.793242</td>\n",
       "      <td>1.071872e-10</td>\n",
       "      <td>3.577374e-07</td>\n",
       "    </tr>\n",
       "    <tr>\n",
       "      <th>4</th>\n",
       "      <td>TNFAIP3</td>\n",
       "      <td>1.601914</td>\n",
       "      <td>7.418585</td>\n",
       "      <td>263.426641</td>\n",
       "      <td>1.358966e-10</td>\n",
       "      <td>3.628440e-07</td>\n",
       "    </tr>\n",
       "  </tbody>\n",
       "</table>\n",
       "</div>"
      ],
      "text/plain": [
       "  Unnamed: 0     logFC    logCPM           F        PValue           FDR\n",
       "0       SAA2  2.414265  5.432500  512.091071  1.406545e-12  1.877738e-08\n",
       "1      CCL20  3.133684  4.949061  447.918174  3.560546e-12  2.376665e-08\n",
       "2      IL36G  2.722310  4.359048  340.454929  2.359692e-11  1.050063e-07\n",
       "3      INHBA  1.810556  6.511435  272.793242  1.071872e-10  3.577374e-07\n",
       "4    TNFAIP3  1.601914  7.418585  263.426641  1.358966e-10  3.628440e-07"
      ]
     },
     "execution_count": 53,
     "metadata": {},
     "output_type": "execute_result"
    }
   ],
   "source": [
    "expression_file = path + 'expDatafile.csv'\n",
    "df=pd.read_csv(expression_file)\n",
    "df.head()"
   ]
  },
  {
   "cell_type": "markdown",
   "metadata": {},
   "source": [
    "Now we define what column the data will be linked to. We want the row with gene A and the corresponding values to be added in the row of gene A in the pathway. In the dataset, the first column with gene names is called \"Unnamed:0\". Consequently, we select this column in the following code.     \n",
    "\n",
    "Note this gives a SettingWithCopyWarning, this is okay. "
   ]
  },
  {
   "cell_type": "code",
   "execution_count": 54,
   "metadata": {},
   "outputs": [
    {
     "name": "stderr",
     "output_type": "stream",
     "text": [
      "C:\\Users\\stefa\\anaconda3\\lib\\site-packages\\py4cytoscape\\tables.py:474: SettingWithCopyWarning: \n",
      "A value is trying to be set on a copy of a slice from a DataFrame.\n",
      "Try using .loc[row_indexer,col_indexer] = value instead\n",
      "\n",
      "See the caveats in the documentation: https://pandas.pydata.org/pandas-docs/stable/user_guide/indexing.html#returning-a-view-versus-a-copy\n",
      "  data_subset[col] = col_val\n"
     ]
    },
    {
     "data": {
      "text/plain": [
       "'Success: Data loaded in defaultnode table'"
      ]
     },
     "execution_count": 54,
     "metadata": {},
     "output_type": "execute_result"
    }
   ],
   "source": [
    "p4c.load_table_data(df, data_key_column=\"Unnamed: 0\")"
   ]
  },
  {
   "cell_type": "markdown",
   "metadata": {},
   "source": [
    "## Step 3: Adding expression and significance visualizations"
   ]
  },
  {
   "cell_type": "markdown",
   "metadata": {},
   "source": [
    "First we will add expression data to our nodes. Expression data is under the column \"logFC\" in our dataset. We assign a white colour to values close to 0, a blue colour to values of -1 or less, and a red colour to values of 1 or greater. We apply this mapping to the style 'WikiPathways'. Leave this blank to update the default style. "
   ]
  },
  {
   "cell_type": "code",
   "execution_count": 55,
   "metadata": {},
   "outputs": [
    {
     "data": {
      "text/plain": [
       "''"
      ]
     },
     "execution_count": 55,
     "metadata": {},
     "output_type": "execute_result"
    }
   ],
   "source": [
    "p4c.set_node_color_mapping('logFC', table_column_values=[-1, 0,  1], colors=['#0000FF', '#FFFFFF', '#FF0000'], style_name='WikiPathways')"
   ]
  },
  {
   "cell_type": "markdown",
   "metadata": {},
   "source": [
    "Now we will assign a light green border colour to all genes that are significantly upregulated or downregulated. To do this, we make a list of the genes, which we pass to the color bypass code. The column 'PValue' is the column in our dataset where significance is annotated.   \n",
    "\n",
    "Finally, to make it easier to view, we increase the border width size. Note that it is not necessary to include the style name when using the bypass option.     \n",
    "\n",
    "Also note there is a Cytoscape warning, that is okay. "
   ]
  },
  {
   "cell_type": "code",
   "execution_count": 56,
   "metadata": {},
   "outputs": [
    {
     "name": "stderr",
     "output_type": "stream",
     "text": [
      "Warning -- Cytoscape version pre-3.9 in use ... settling delay inserted after filter execution\n"
     ]
    },
    {
     "name": "stdout",
     "output_type": "stream",
     "text": [
      "No edges selected.\n",
      "\n",
      "col_one_list:\n",
      "['ITPR1', 'CALML3', 'ITPR3', 'CAMK2D', 'ATF4']\n",
      "type:<class 'list'>\n"
     ]
    }
   ],
   "source": [
    "sig_gene_list = p4c.create_column_filter('sig_gene_list','PValue', 0.05, \"LESS_THAN\")\n",
    "dfSigGene = pd.DataFrame(sig_gene_list)\n",
    "col_one_list = dfSigGene['nodes'].tolist()\n",
    "print(f\"\\ncol_one_list:\\n{col_one_list}\\ntype:{type(col_one_list)}\")"
   ]
  },
  {
   "cell_type": "code",
   "execution_count": 57,
   "metadata": {},
   "outputs": [
    {
     "data": {
      "text/plain": [
       "''"
      ]
     },
     "execution_count": 57,
     "metadata": {},
     "output_type": "execute_result"
    }
   ],
   "source": [
    "p4c.set_node_border_color_bypass(col_one_list,'#90ee90')\n",
    "p4c.set_node_border_width_bypass(col_one_list, 10)"
   ]
  },
  {
   "cell_type": "markdown",
   "metadata": {},
   "source": [
    "## Step 4: Exporting images  \n",
    "\n",
    "Now we will make a PNG image from cytoscape, to view in Jupyter. We also make a SVG file, to use for later.   \n",
    "\n",
    "Vector based SVG files handle scaling up or down much better than pixel based images such as PNGs. "
   ]
  },
  {
   "cell_type": "code",
   "execution_count": 58,
   "metadata": {},
   "outputs": [
    {
     "data": {
      "image/png": "[encoded data removed]",
      "text/plain": [
       "<IPython.core.display.Image object>"
      ]
     },
     "execution_count": 58,
     "metadata": {},
     "output_type": "execute_result"
    }
   ],
   "source": [
    "p4c.export_image(filename='pathway4756.png')\n",
    "p4c.sandbox_get_from('pathway4756.png')\n",
    "from IPython.display import Image\n",
    "\n",
    "p4c.export_image(filename='pathway4756.svg', type='SVG')\n",
    "p4c.sandbox_get_from('pathway4756.svg')\n",
    "\n",
    "Image('pathway4756.png')\n"
   ]
  },
  {
   "cell_type": "code",
   "execution_count": null,
   "metadata": {},
   "outputs": [],
   "source": []
  }
 ],
 "metadata": {
  "kernelspec": {
   "display_name": "Python 3",
   "language": "python",
   "name": "python3"
  },
  "language_info": {
   "codemirror_mode": {
    "name": "ipython",
    "version": 3
   },
   "file_extension": ".py",
   "mimetype": "text/x-python",
   "name": "python",
   "nbconvert_exporter": "python",
   "pygments_lexer": "ipython3",
   "version": "3.8.5"
  }
 },
 "nbformat": 4,
 "nbformat_minor": 4
}
