{
 "cells": [
  {
   "cell_type": "code",
   "execution_count": 1,
   "metadata": {},
   "outputs": [],
   "source": [
    "import os"
   ]
  },
  {
   "cell_type": "code",
   "execution_count": 2,
   "metadata": {},
   "outputs": [
    {
     "name": "stdout",
     "output_type": "stream",
     "text": [
      " Volume in drive C is Windows\n",
      " Volume Serial Number is 6477-7F8D\n",
      "\n",
      " Directory of C:\\Users\\stefa\\Documents\\GitHub\\2021-internship\\Raats\\datasets\n",
      "\n",
      "18-05-2021  13:43    <DIR>          .\n",
      "18-05-2021  13:43    <DIR>          ..\n",
      "18-04-2020  18:21         5.272.932 GSE147507_RawReadCounts_Human.tsv\n",
      "18-05-2021  13:36         1.939.825 GSE147507_RawReadCounts_Human.tsv.gz\n",
      "               2 File(s)      7.212.757 bytes\n",
      "               2 Dir(s)  135.788.756.992 bytes free\n"
     ]
    }
   ],
   "source": [
    "ls datasets"
   ]
  },
  {
   "cell_type": "code",
   "execution_count": 6,
   "metadata": {},
   "outputs": [],
   "source": [
    "dataset = 'C:/Users/stefa/Documents/GitHub/2021-internship/Raats/datasets/GSE147507_RawReadCounts_Human.tsv'\n"
   ]
  },
  {
   "cell_type": "code",
   "execution_count": 12,
   "metadata": {},
   "outputs": [],
   "source": [
    "import pandas as pd\n"
   ]
  },
  {
   "cell_type": "code",
   "execution_count": 21,
   "metadata": {},
   "outputs": [],
   "source": [
    "ds_Primary=pd.read_table(\"./GSE147507_RawReadCounts_Human.tsv\")"
   ]
  },
  {
   "cell_type": "code",
   "execution_count": null,
   "metadata": {},
   "outputs": [],
   "source": []
  },
  {
   "cell_type": "code",
   "execution_count": null,
   "metadata": {},
   "outputs": [],
   "source": []
  }
 ],
 "metadata": {
  "kernelspec": {
   "display_name": "Python 3",
   "language": "python",
   "name": "python3"
  },
  "language_info": {
   "codemirror_mode": {
    "name": "ipython",
    "version": 3
   },
   "file_extension": ".py",
   "mimetype": "text/x-python",
   "name": "python",
   "nbconvert_exporter": "python",
   "pygments_lexer": "ipython3",
   "version": "3.8.5"
  }
 },
 "nbformat": 4,
 "nbformat_minor": 4
}
