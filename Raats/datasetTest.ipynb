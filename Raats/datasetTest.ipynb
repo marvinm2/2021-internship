{
 "cells": [
  {
   "cell_type": "code",
   "execution_count": 1,
   "metadata": {},
   "outputs": [
    {
     "name": "stdout",
     "output_type": "stream",
     "text": [
      " Volume in drive C is Windows\n",
      " Volume Serial Number is 6477-7F8D\n",
      "\n",
      " Directory of C:\\Users\\stefa\\Documents\\GitHub\\2021-internship\\Raats\n",
      "\n",
      "18-05-2021  13:39    <DIR>          .\n",
      "18-05-2021  13:39    <DIR>          ..\n",
      "18-05-2021  13:39    <DIR>          .ipynb_checkpoints\n",
      "11-05-2021  14:42         1.390.524 BasicDataVizDemo.cys\n",
      "17-05-2021  18:05           354.595 CyTargetLinker_WikiPathways.ipynb\n",
      "18-05-2021  13:37    <DIR>          dataPractice\n",
      "18-05-2021  13:38    <DIR>          datasets\n",
      "18-05-2021  13:38                72 datasetTest.ipynb\n",
      "17-05-2021  18:04            69.113 ext_net_raw.png\n",
      "17-05-2021  18:04           123.054 ext_net_viz.png\n",
      "17-05-2021  18:04            67.290 loaded_network.png\n",
      "17-05-2021  18:04    <DIR>          logs\n",
      "17-05-2021  16:23            10.361 newstyleV1.xml\n",
      "17-05-2021  16:24    <DIR>          pngsPractice\n",
      "18-05-2021  13:37    <DIR>          practice\n",
      "12-06-2019  10:00        13.773.428 wikipathways-20190610-hsa.xgmml\n",
      "17-05-2021  16:30        14.441.683 wikipathways-feb2021.xgmml\n",
      "12-05-2021  14:46           543.283 wikipathways-hsa-20190610.zip\n",
      "              10 File(s)     30.773.403 bytes\n",
      "               8 Dir(s)  135.808.008.192 bytes free\n"
     ]
    }
   ],
   "source": [
    "ls\n"
   ]
  },
  {
   "cell_type": "code",
   "execution_count": 2,
   "metadata": {},
   "outputs": [
    {
     "name": "stdout",
     "output_type": "stream",
     "text": [
      " Volume in drive C is Windows\n",
      " Volume Serial Number is 6477-7F8D\n",
      "\n",
      " Directory of C:\\Users\\stefa\\Documents\\GitHub\\2021-internship\\Raats\\datasets\n",
      "\n",
      "18-05-2021  13:38    <DIR>          .\n",
      "18-05-2021  13:38    <DIR>          ..\n",
      "18-05-2021  13:36         1.939.825 GSE147507_RawReadCounts_Human.tsv.gz\n",
      "               1 File(s)      1.939.825 bytes\n",
      "               2 Dir(s)  135.803.351.040 bytes free\n"
     ]
    }
   ],
   "source": [
    "ls datasets"
   ]
  },
  {
   "cell_type": "code",
   "execution_count": 6,
   "metadata": {},
   "outputs": [
    {
     "ename": "SyntaxError",
     "evalue": "invalid syntax (<ipython-input-6-fa3f4f60d4ba>, line 1)",
     "output_type": "error",
     "traceback": [
      "\u001b[1;36m  File \u001b[1;32m\"<ipython-input-6-fa3f4f60d4ba>\"\u001b[1;36m, line \u001b[1;32m1\u001b[0m\n\u001b[1;33m    gunzip 'C:/Users/stefa/Documents/GitHub/2021-internship/Raats/datasets/GSE147507_RawReadCounts_Human.tsv.gz'\u001b[0m\n\u001b[1;37m           ^\u001b[0m\n\u001b[1;31mSyntaxError\u001b[0m\u001b[1;31m:\u001b[0m invalid syntax\n"
     ]
    }
   ],
   "source": [
    "gunzip 'C:/Users/stefa/Documents/GitHub/2021-internship/Raats/datasets/GSE147507_RawReadCounts_Human.tsv.gz'"
   ]
  },
  {
   "cell_type": "code",
   "execution_count": null,
   "metadata": {},
   "outputs": [],
   "source": []
  }
 ],
 "metadata": {
  "kernelspec": {
   "display_name": "Python 3",
   "language": "python",
   "name": "python3"
  },
  "language_info": {
   "codemirror_mode": {
    "name": "ipython",
    "version": 3
   },
   "file_extension": ".py",
   "mimetype": "text/x-python",
   "name": "python",
   "nbconvert_exporter": "python",
   "pygments_lexer": "ipython3",
   "version": "3.8.5"
  }
 },
 "nbformat": 4,
 "nbformat_minor": 4
}
